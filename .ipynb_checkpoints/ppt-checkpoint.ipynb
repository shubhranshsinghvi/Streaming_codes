{
 "cells": [
  {
   "cell_type": "code",
   "execution_count": 2,
   "metadata": {},
   "outputs": [],
   "source": [
    "from manim import *"
   ]
  },
  {
   "cell_type": "code",
   "execution_count": 3,
   "metadata": {},
   "outputs": [],
   "source": [
    "class SquareToCircle(Scene):\n",
    "    def construct(self):\n",
    "        circle = Circle()  # create a circle\n",
    "        circle.set_fill(PINK, opacity=0.5)  # set the color and transparency\n",
    "        self.play(Create(circle))  # show the circle on screen"
   ]
  },
  {
   "cell_type": "code",
   "execution_count": 4,
   "metadata": {},
   "outputs": [
    {
     "name": "stdout",
     "output_type": "stream",
     "text": [
      "Manim Community \u001b[32mv0.\u001b[0m\u001b[32m7.0\u001b[0m\r\n",
      "\r\n",
      "Traceback (most recent call last):\r\n",
      "  File \"/home/shubhransh/.local/bin/manim\", line 8, in <module>\r\n",
      "    sys.exit(main())\r\n",
      "  File \"/home/shubhransh/.local/lib/python3.8/site-packages/click/core.py\", line 1137, in __call__\r\n",
      "    return self.main(*args, **kwargs)\r\n",
      "  File \"/home/shubhransh/.local/lib/python3.8/site-packages/click/core.py\", line 1062, in main\r\n",
      "    rv = self.invoke(ctx)\r\n",
      "  File \"/home/shubhransh/.local/lib/python3.8/site-packages/click/core.py\", line 1668, in invoke\r\n",
      "    return _process_result(sub_ctx.command.invoke(sub_ctx))\r\n",
      "  File \"/home/shubhransh/.local/lib/python3.8/site-packages/click/core.py\", line 1404, in invoke\r\n",
      "    return ctx.invoke(self.callback, **ctx.params)\r\n",
      "  File \"/home/shubhransh/.local/lib/python3.8/site-packages/click/core.py\", line 763, in invoke\r\n",
      "    return __callback(*args, **kwargs)\r\n",
      "  File \"/home/shubhransh/.local/lib/python3.8/site-packages/manim/cli/render/commands.py\", line 154, in render\r\n",
      "    for SceneClass in scene_classes_from_file(file):\r\n",
      "  File \"/home/shubhransh/.local/lib/python3.8/site-packages/manim/utils/module_ops.py\", line 119, in scene_classes_from_file\r\n",
      "    module = get_module(file_path)\r\n",
      "  File \"/home/shubhransh/.local/lib/python3.8/site-packages/manim/utils/module_ops.py\", line 36, in get_module\r\n",
      "    raise ValueError(f\"{file_name} is not a valid Manim python script.\")\r\n",
      "ValueError: ppt.ipynb is not a valid Manim python script.\r\n"
     ]
    }
   ],
   "source": [
    "!manim ppt.ipynb SquareToCircle -pql"
   ]
  },
  {
   "cell_type": "code",
   "execution_count": null,
   "metadata": {},
   "outputs": [],
   "source": []
  }
 ],
 "metadata": {
  "kernelspec": {
   "display_name": "Python 3",
   "language": "python",
   "name": "python3"
  },
  "language_info": {
   "codemirror_mode": {
    "name": "ipython",
    "version": 3
   },
   "file_extension": ".py",
   "mimetype": "text/x-python",
   "name": "python",
   "nbconvert_exporter": "python",
   "pygments_lexer": "ipython3",
   "version": "3.8.5"
  }
 },
 "nbformat": 4,
 "nbformat_minor": 4
}
